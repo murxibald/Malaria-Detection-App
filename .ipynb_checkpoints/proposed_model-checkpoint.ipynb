{
 "cells": [
  {
   "cell_type": "markdown",
   "id": "94e7ddd2-66da-4bc5-ab02-ba8ed995bef2",
   "metadata": {},
   "source": [
    "# Proposed Model\n",
    "#### Read cropped images"
   ]
  },
  {
   "cell_type": "code",
   "execution_count": 1,
   "id": "314be898-d531-497b-b2dc-3e3e28c225b7",
   "metadata": {},
   "outputs": [],
   "source": [
    "import os\n",
    "import numpy as np\n",
    "from PIL import Image\n",
    "\n",
    "species = ['Falciparum', 'Malariae', 'Ovale', 'Vivax']\n",
    "filenames = []\n",
    "\n",
    "for s in species:\n",
    "    path = 'MP-IDB\\\\' + s + '\\\\cropped'\n",
    "    filenames += [os.path.join(path, f) for f in os.listdir(path)]\n",
    "\n",
    "img = []\n",
    "\n",
    "for i in filenames:\n",
    "    img.append(Image.open(i))"
   ]
  },
  {
   "cell_type": "markdown",
   "id": "63600cc7-cfc0-4093-8fe7-c4215268e684",
   "metadata": {},
   "source": [
    "#### Image augmentation"
   ]
  },
  {
   "cell_type": "code",
   "execution_count": 9,
   "id": "f5e6b749-167a-4464-800a-8a3b104f5afd",
   "metadata": {},
   "outputs": [],
   "source": [
    "import tensorflow as tf\n",
    "import math\n",
    "\n",
    "def augment(image):\n",
    "    shape = tf.shape(image)\n",
    "    dims_factor = tf.random.uniform([], 0.8, 1.0, dtype=tf.float32)\n",
    "    height_dim  = tf.multiply(dims_factor, tf.cast(shape[0], tf.float32))\n",
    "    width_dim   = tf.multiply(dims_factor, tf.cast(shape[1], tf.float32))\n",
    "    image = tf.image.random_crop(image, [height_dim, width_dim, 3])\n",
    "    rotate_prob = tf.random.uniform([], 0, 1.0, dtype=tf.float32)\n",
    "    if rotate_prob > .75:\n",
    "        image = tf.image.rot90(image, k=3)\n",
    "    elif rotate_prob > .5:\n",
    "        image = tf.image.rot90(image, k=2)\n",
    "    elif rotate_prob > .25:\n",
    "        image = tf.image.rot90(image, k=1)\n",
    "    image = tf.image.random_flip_left_right(image)\n",
    "    image = tf.image.random_brightness(image, 0.2,)\n",
    "    image = tf.image.random_contrast(image, 0.6, 1.4,)\n",
    "    image = tf.image.random_hue(image, 0.0)\n",
    "    image = tf.image.random_saturation(image, 0.5, 1.5,)\n",
    "    return image"
   ]
  },
  {
   "cell_type": "markdown",
   "id": "093ddfd0-64d1-44a9-bb86-758d4c832152",
   "metadata": {},
   "source": [
    "#### Upsampling"
   ]
  },
  {
   "cell_type": "code",
   "execution_count": 13,
   "id": "9b28b701-a433-43c5-b5d8-67bab8cbf774",
   "metadata": {},
   "outputs": [],
   "source": [
    "def upsample(images, number):\n",
    "    new_images = []\n",
    "    for i in range(number // len(images)):\n",
    "       for j in images:\n",
    "           new_images.append(augment(j))\n",
    "    for i in range(number % len(images)):\n",
    "        new_images.append(augment(images[i]))\n",
    "    return new_images"
   ]
  },
  {
   "cell_type": "markdown",
   "id": "952af9f6-872d-49aa-8d2e-f4792078cc92",
   "metadata": {},
   "source": [
    "#### New Data"
   ]
  },
  {
   "cell_type": "code",
   "execution_count": 14,
   "id": "ba23c312-9c3f-4db1-95ec-6407ce1bace1",
   "metadata": {},
   "outputs": [],
   "source": [
    "upsampled_img = upsample(img[:104], 200) + upsample(img[104:141], 200) + upsample(img[141:170], 200) + upsample(img[170:], 200)"
   ]
  },
  {
   "cell_type": "markdown",
   "id": "681a77e1-b331-48e9-9cfd-902f802c6264",
   "metadata": {},
   "source": [
    "#### Labels"
   ]
  },
  {
   "cell_type": "code",
   "execution_count": 19,
   "id": "33d8aa19-a794-4141-9b42-c8ff6a4dfecb",
   "metadata": {},
   "outputs": [],
   "source": [
    "labels = []\n",
    "for i in range(4):\n",
    "    for j in range(200):\n",
    "        labels.append([0, 0, 0 ,0])\n",
    "        labels[-1][i] = 1"
   ]
  },
  {
   "cell_type": "code",
   "execution_count": null,
   "id": "ac6aba59-7e4b-4160-931a-74800c9a5884",
   "metadata": {},
   "outputs": [],
   "source": []
  }
 ],
 "metadata": {
  "kernelspec": {
   "display_name": "Python 3 (ipykernel)",
   "language": "python",
   "name": "python3"
  },
  "language_info": {
   "codemirror_mode": {
    "name": "ipython",
    "version": 3
   },
   "file_extension": ".py",
   "mimetype": "text/x-python",
   "name": "python",
   "nbconvert_exporter": "python",
   "pygments_lexer": "ipython3",
   "version": "3.12.0"
  }
 },
 "nbformat": 4,
 "nbformat_minor": 5
}
